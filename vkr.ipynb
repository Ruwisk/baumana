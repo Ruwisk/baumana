{
 "cells": [
  {
   "cell_type": "markdown",
   "metadata": {},
   "source": [
    "# Выпускная квалификационная работа - Богословский Максим"
   ]
  },
  {
   "cell_type": "markdown",
   "metadata": {},
   "source": [
    "Тема исследования: Прогнозирование конечных свойств новых материалов (композиционных материалов)"
   ]
  }
 ],
 "metadata": {
  "kernelspec": {
   "display_name": "Python 3.9.12 ('base')",
   "language": "python",
   "name": "python3"
  },
  "language_info": {
   "name": "python",
   "version": "3.9.12"
  },
  "orig_nbformat": 4,
  "vscode": {
   "interpreter": {
    "hash": "50a6087129ea5273bcd570cc2fb5ced32d4a3b8cc519b239cd5e2a18d250143e"
   }
  }
 },
 "nbformat": 4,
 "nbformat_minor": 2
}
