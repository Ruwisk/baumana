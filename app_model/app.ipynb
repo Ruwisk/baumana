{
 "cells": [
  {
   "cell_type": "markdown",
   "metadata": {},
   "source": [
    "# Приложение для прогнозирования \"Соотношение матрица-наполнитель\""
   ]
  },
  {
   "cell_type": "code",
   "execution_count": 75,
   "metadata": {},
   "outputs": [],
   "source": [
    "import numpy as np\n",
    "import tensorflow as tf\n",
    "from tensorflow import keras\n",
    "from flask import Flask, request, render_template\n",
    "from joblib import dump, load"
   ]
  },
  {
   "cell_type": "code",
   "execution_count": 76,
   "metadata": {},
   "outputs": [],
   "source": [
    "#Загрузка файлов модели\n",
    "app = Flask(__name__)\n",
    "dnn_model = tf.keras.models.load_model('./model')"
   ]
  },
  {
   "cell_type": "code",
   "execution_count": 77,
   "metadata": {},
   "outputs": [],
   "source": [
    "#Загрузка модели, определение параметров\n",
    "def set_params(parametr1, parametr2, parametr3, parametr4, parametr5, parametr6, parametr7, parametr8, parametr9, parametr10, parametr11, parametr12):\n",
    "    prediction = dnn_model.predict([parametr1, parametr2, parametr3, parametr4, parametr5, parametr6, parametr7, parametr8, parametr9, parametr10, parametr11, parametr12])\n",
    "    return prediction[0][0]"
   ]
  },
  {
   "cell_type": "code",
   "execution_count": 78,
   "metadata": {},
   "outputs": [
    {
     "name": "stdout",
     "output_type": "stream",
     "text": [
      " * Serving Flask app \"__main__\" (lazy loading)\n",
      " * Environment: production\n",
      "\u001b[31m   WARNING: This is a development server. Do not use it in a production deployment.\u001b[0m\n",
      "\u001b[2m   Use a production WSGI server instead.\u001b[0m\n",
      " * Debug mode: off\n"
     ]
    },
    {
     "name": "stderr",
     "output_type": "stream",
     "text": [
      " * Running on http://127.0.0.1:5000/ (Press CTRL+C to quit)\n",
      "127.0.0.1 - - [13/Dec/2022 13:50:14] \"GET / HTTP/1.1\" 200 -\n"
     ]
    },
    {
     "name": "stdout",
     "output_type": "stream",
     "text": [
      "WARNING:tensorflow:Model was constructed with shape (None, None) for input KerasTensor(type_spec=TensorSpec(shape=(None, None), dtype=tf.float32, name='normalization_input'), name='normalization_input', description=\"created by layer 'normalization_input'\"), but it was called on an input with incompatible shape (None,).\n",
      "1/1 [==============================] - 0s 170ms/step\n"
     ]
    },
    {
     "name": "stderr",
     "output_type": "stream",
     "text": [
      "127.0.0.1 - - [13/Dec/2022 13:50:30] \"POST / HTTP/1.1\" 200 -\n"
     ]
    }
   ],
   "source": [
    "#Определение методов и функций\n",
    "@app.route('/', methods=['post', 'get'])\n",
    "def app_calculation():\n",
    "    param_lst = []\n",
    "    message = ''\n",
    "    if request.method == 'POST':  \n",
    "        for i in range(1,13,1):\n",
    "            param = request.form.get(f'parametr{i}')\n",
    "            param_lst.append(float(param))           \n",
    "        message = set_params(*param_lst)  \n",
    "    return render_template(\"/index.html\", message=message) \n",
    "\n",
    "#Запуск приложения \n",
    "app.run()"
   ]
  }
 ],
 "metadata": {
  "kernelspec": {
   "display_name": "Python 3.9.12 ('base')",
   "language": "python",
   "name": "python3"
  },
  "language_info": {
   "codemirror_mode": {
    "name": "ipython",
    "version": 3
   },
   "file_extension": ".py",
   "mimetype": "text/x-python",
   "name": "python",
   "nbconvert_exporter": "python",
   "pygments_lexer": "ipython3",
   "version": "3.9.12"
  },
  "orig_nbformat": 4,
  "vscode": {
   "interpreter": {
    "hash": "50a6087129ea5273bcd570cc2fb5ced32d4a3b8cc519b239cd5e2a18d250143e"
   }
  }
 },
 "nbformat": 4,
 "nbformat_minor": 2
}
